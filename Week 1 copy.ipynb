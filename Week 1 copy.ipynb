{
 "cells": [
  {
   "cell_type": "markdown",
   "id": "34995082-ef35-4ff4-95d0-96c491eea240",
   "metadata": {},
   "source": [
    "## HSSP Spring 2024: Computing in the Small: Lyman Hurd, Glenn Hurd\n",
    "\n",
    "### Week 1: Simple programs.\n",
    "\n",
    "We want to be able to discover under what circumstances can we short-cut running a program.  In other words, when can we make long-term predictions about what a function is going to do on repeated application without having to actually run it."
   ]
  },
  {
   "cell_type": "code",
   "execution_count": 68,
   "id": "bf9fc127-c48f-4b29-9f6a-54aa941908c2",
   "metadata": {},
   "outputs": [],
   "source": [
    "def plus_one(x):\n",
    "    return x + 1"
   ]
  },
  {
   "cell_type": "markdown",
   "id": "f03dee15-7eea-43e1-b057-f97cbd4769eb",
   "metadata": {},
   "source": [
    "In this trivial example we wish to know what happens when we apply this function 100 times to a starting value.  Here is the \"hard\" way to figure that out:"
   ]
  },
  {
   "cell_type": "code",
   "execution_count": 70,
   "id": "2ecc336a-51c2-409f-9fa2-21a1e666ed7d",
   "metadata": {},
   "outputs": [
    {
     "name": "stdout",
     "output_type": "stream",
     "text": [
      "100\n"
     ]
    }
   ],
   "source": [
    "x = 0\n",
    "for i in range(100):\n",
    "    x = plus_one(x)\n",
    "print(x)"
   ]
  },
  {
   "cell_type": "markdown",
   "id": "0bf13ad9-8a48-492c-ad2a-20c76d7dcbbc",
   "metadata": {},
   "source": [
    "A similar analysis applies for the function plus_thirteen."
   ]
  },
  {
   "cell_type": "code",
   "execution_count": null,
   "id": "8ea68fc3-4e44-4f94-9823-614f967befdd",
   "metadata": {},
   "outputs": [],
   "source": [
    "def plus_thirteen(x):\n",
    "    return x + 13"
   ]
  },
  {
   "cell_type": "markdown",
   "id": "535a813d-0986-470f-8656-674ed7a88698",
   "metadata": {},
   "source": [
    "We can see that applying plus_thirteen to 0 for 100 times would give 13 * 100 = 1300.  Let us consider the same problem for repeated multiplication."
   ]
  },
  {
   "cell_type": "code",
   "execution_count": 74,
   "id": "637bb8bc-ba19-4803-842e-c2d9b4aeb9af",
   "metadata": {},
   "outputs": [],
   "source": [
    "def times_two(x):\n",
    "    return 2 * x"
   ]
  },
  {
   "cell_type": "markdown",
   "id": "a8598a66-c2f1-4af1-a393-d1e9a17dad05",
   "metadata": {},
   "source": [
    "Can we predict what will happen if we apply this function 100 times to 1?"
   ]
  },
  {
   "cell_type": "code",
   "execution_count": 76,
   "id": "053e1284-9736-4c0a-a0f3-1d5c3f3a0eb8",
   "metadata": {},
   "outputs": [
    {
     "name": "stdout",
     "output_type": "stream",
     "text": [
      "1267650600228229401496703205376\n"
     ]
    }
   ],
   "source": [
    "x = 1\n",
    "for i in range(100):\n",
    "    x = times_two(x)\n",
    "print(x)"
   ]
  },
  {
   "cell_type": "code",
   "execution_count": 15,
   "id": "dccd9963-745e-471d-b009-7f2d411e3b52",
   "metadata": {},
   "outputs": [],
   "source": [
    "def my_pow(x, n):\n",
    "    print(f\"computing pow({x}, {n})\")\n",
    "    if n == 0:\n",
    "        return 1\n",
    "    if n % 2:\n",
    "        return x * my_pow(x, n - 1)\n",
    "    y = my_pow(x, n//2)\n",
    "    return y * y"
   ]
  },
  {
   "cell_type": "code",
   "execution_count": 78,
   "id": "7aaa8ac3-000f-4b4b-8619-0cff17a18ce7",
   "metadata": {},
   "outputs": [
    {
     "name": "stdout",
     "output_type": "stream",
     "text": [
      "computing pow(2, 100)\n",
      "computing pow(2, 50)\n",
      "computing pow(2, 25)\n",
      "computing pow(2, 24)\n",
      "computing pow(2, 12)\n",
      "computing pow(2, 6)\n",
      "computing pow(2, 3)\n",
      "computing pow(2, 2)\n",
      "computing pow(2, 1)\n",
      "computing pow(2, 0)\n"
     ]
    },
    {
     "data": {
      "text/plain": [
       "1267650600228229401496703205376"
      ]
     },
     "execution_count": 78,
     "metadata": {},
     "output_type": "execute_result"
    }
   ],
   "source": [
    "my_pow(2, 100)"
   ]
  },
  {
   "cell_type": "markdown",
   "id": "e6d2306b-f7b2-4f6b-a865-712b093aa088",
   "metadata": {},
   "source": [
    "Of course at this point we have to admit that Python knows how to compute powers and we could have saved ourselves work by asking for: "
   ]
  },
  {
   "cell_type": "code",
   "execution_count": 80,
   "id": "2da5a49b-d71c-4aa4-a6f6-4a4d7fef5208",
   "metadata": {},
   "outputs": [
    {
     "data": {
      "text/plain": [
       "1267650600228229401496703205376"
      ]
     },
     "execution_count": 80,
     "metadata": {},
     "output_type": "execute_result"
    }
   ],
   "source": [
    "2**100"
   ]
  },
  {
   "cell_type": "markdown",
   "id": "2315e4d6-3806-4bc0-b9c5-61d6cff643ad",
   "metadata": {},
   "source": [
    "## Pascal's Triangle:\n",
    "Pascal's triangle is formed by starting with a row consisting of \"1 1\" and then the subsequent row is formed by putting a 1 at the beginning and the end and in the middle taking sums of adjacent elements from the previous row.  For example, the next row would be \"1 2 1\"."
   ]
  },
  {
   "cell_type": "code",
   "execution_count": 49,
   "id": "2ea35e8c-bbef-47a7-9bbc-1071e273f23b",
   "metadata": {},
   "outputs": [],
   "source": [
    "# we are expecting as an argument an integer >= 1.  Try for yourself to see what \"bad things\" happen if we try\n",
    "# pascal(0), pascal(-1) or pascal(3.14)\n",
    "\n",
    "def pascal(n):\n",
    "    if n == 1:\n",
    "        row = [1, 1]\n",
    "    else:\n",
    "        prev = pascal(n - 1)\n",
    "        row = [1]\n",
    "        for i in range(len(prev) - 1):\n",
    "            row.append(prev[i] + prev[i + 1])\n",
    "        row.append(1)\n",
    "    return row"
   ]
  },
  {
   "cell_type": "code",
   "execution_count": 86,
   "id": "05594705-5cab-466f-9162-1ea2bc04dee0",
   "metadata": {},
   "outputs": [
    {
     "name": "stdout",
     "output_type": "stream",
     "text": [
      "[1, 1]\n",
      "[1, 2, 1]\n",
      "[1, 3, 3, 1]\n",
      "[1, 4, 6, 4, 1]\n",
      "[1, 5, 10, 10, 5, 1]\n",
      "[1, 6, 15, 20, 15, 6, 1]\n",
      "[1, 7, 21, 35, 35, 21, 7, 1]\n",
      "[1, 8, 28, 56, 70, 56, 28, 8, 1]\n",
      "[1, 9, 36, 84, 126, 126, 84, 36, 9, 1]\n",
      "[1, 10, 45, 120, 210, 252, 210, 120, 45, 10, 1]\n"
     ]
    }
   ],
   "source": [
    "# range in Python always starts at 0.  range(10) gives 0, 1, 2, 3, 4, 5, 6, 7, 8, 9.\n",
    "# we can get what we want by saying range(1, 11) or simply inserting a \"\"+ 1\"\n",
    "\n",
    "for i in range(10):\n",
    "    print(pascal(i + 1))"
   ]
  },
  {
   "cell_type": "markdown",
   "id": "4ad9447f-55a1-4ba4-81e9-19815674a22d",
   "metadata": {},
   "source": [
    "What if we only want to know the value on row 100, or even just want to know the values at the 25th element of row 100?  Generating all previous rows\n",
    "is the \"hard way\".  Fortunately there is a formula that tells us the values we want.  The value for the kth element in row n (in each row we start counting at 0), is called \"n choose k\" written C(n, k) or as a bracket with the numbers stacked on top of each other.\n",
    "\n",
    "Think of it as counting from a deck of _n_ cards how many ways we can deal a hand of _k_ cards.  The first card can be any of the _n_, the second any of thhe cards except the one we already chose so there are _n - 1_ possibilities, and so on until one gets to _n - k_.\n",
    "\n",
    "However, here is a catch, because we consider the hand: (1, 2, 3) to be the same as the hand (3, 2, 1).  So once we choose k cards we can rearrange them in any of _k_ times _k - 1_ times _k - 2_ ... times 2 times 1 ways (this is called _k_ factorial or _k!_).\n",
    "\n",
    "_C(n,k) = (n * (n - 1) * (n - 2) * ... * (n - k)) / (p * (p - 1) * (p - 2) * ... * 2 * 1)_\n",
    "\n",
    "Note in Python 3 we use \"//\" as our division operator to indicate that we want to stay with whole numbers.  Happily this division always comes out exact,"
   ]
  },
  {
   "cell_type": "code",
   "execution_count": 35,
   "id": "51f18ae3-023c-4b32-83d0-e5446d5a4109",
   "metadata": {},
   "outputs": [],
   "source": [
    "def choose_n_k(n, k):\n",
    "    num = 1\n",
    "    for i in range(n, n - k, -1):\n",
    "        num *= i\n",
    "    den = 1\n",
    "    for i in range(1, k + 1):\n",
    "        den *= i\n",
    "    return num // den"
   ]
  },
  {
   "cell_type": "markdown",
   "id": "91f9e0f5-b59b-4fd3-8400-4ce0816a7c17",
   "metadata": {},
   "source": [
    "There's an interesting symmetry in combinations.  If one wanted to choose 8 items out of 10 possibilities it is equivalent to choosing which 2 we don't want.\n",
    "\n",
    "In formulas: _C(n, k) = C(n, n - k)_\n",
    "\n",
    "so to speed things up we use whichever of _k_ or _n - k_ is smaller:"
   ]
  },
  {
   "cell_type": "code",
   "execution_count": 7,
   "id": "24e8f781-baf5-43df-8f67-93e776157d03",
   "metadata": {},
   "outputs": [],
   "source": [
    "def choose_n_k(n, k):\n",
    "    if k > n - k:\n",
    "        return choose_n_k(n, n - k)\n",
    "    num = 1\n",
    "    for i in range(n, n - k, -1):\n",
    "        num *= i\n",
    "    den = 1\n",
    "    for i in range(1, k + 1):\n",
    "        den *= i\n",
    "    return num // den"
   ]
  },
  {
   "cell_type": "code",
   "execution_count": 5,
   "id": "f00315fc-b0bb-4295-99f3-a8966e675210",
   "metadata": {},
   "outputs": [
    {
     "data": {
      "text/plain": [
       "1"
      ]
     },
     "execution_count": 5,
     "metadata": {},
     "output_type": "execute_result"
    }
   ],
   "source": [
    "choose_n_k(0, 0)"
   ]
  },
  {
   "cell_type": "code",
   "execution_count": 3,
   "id": "e437c59a-d707-4d20-8a80-620995c9609c",
   "metadata": {},
   "outputs": [],
   "source": [
    "def pascal(n):\n",
    "    return [choose_n_k(n, k) % 2 for k in range(n + 1)]"
   ]
  },
  {
   "cell_type": "code",
   "execution_count": 7,
   "id": "9a294758-865c-42ea-ab21-83ee9dac00d5",
   "metadata": {},
   "outputs": [
    {
     "name": "stdout",
     "output_type": "stream",
     "text": [
      "1\n",
      "10\n",
      "45\n",
      "120\n",
      "210\n",
      "252\n",
      "210\n",
      "120\n",
      "45\n",
      "10\n",
      "1\n"
     ]
    }
   ],
   "source": [
    "for k in range(11):\n",
    "    print(choose_n_k(10, k))"
   ]
  },
  {
   "cell_type": "code",
   "execution_count": 8,
   "id": "04e62aa5-b57e-48b0-8948-af20a51483f0",
   "metadata": {},
   "outputs": [
    {
     "data": {
      "text/plain": [
       "[1, 0, 1, 0, 0, 0, 0, 0, 1, 0, 1]"
      ]
     },
     "execution_count": 8,
     "metadata": {},
     "output_type": "execute_result"
    }
   ],
   "source": [
    "pascal(10)"
   ]
  },
  {
   "cell_type": "code",
   "execution_count": 5,
   "id": "82034925-f7f2-4807-adc7-0a71a320669e",
   "metadata": {},
   "outputs": [],
   "source": [
    "def pascal_image(n):\n",
    "    img = []\n",
    "    for i in range(n):\n",
    "        img.append(pascal(i) + (n - i - 1) * [0])\n",
    "    return img"
   ]
  },
  {
   "cell_type": "code",
   "execution_count": 2,
   "id": "671844b1-9c2f-45c6-a89f-255a3b1e7bac",
   "metadata": {},
   "outputs": [],
   "source": [
    "import matplotlib.pyplot as plt\n",
    "\n",
    "%matplotlib inline"
   ]
  },
  {
   "cell_type": "code",
   "execution_count": 12,
   "id": "85b185c8-1e9d-404f-ac08-023118df5352",
   "metadata": {},
   "outputs": [
    {
     "data": {
      "text/plain": [
       "[[1, 0, 0, 0, 0],\n",
       " [1, 1, 0, 0, 0],\n",
       " [1, 0, 1, 0, 0],\n",
       " [1, 1, 1, 1, 0],\n",
       " [1, 0, 0, 0, 1]]"
      ]
     },
     "execution_count": 12,
     "metadata": {},
     "output_type": "execute_result"
    }
   ],
   "source": [
    "pascal_image(5)"
   ]
  },
  {
   "cell_type": "code",
   "execution_count": 14,
   "id": "478b130a-503f-430e-bd58-cf38e4b17cf9",
   "metadata": {},
   "outputs": [
    {
     "data": {
      "text/plain": [
       "<matplotlib.image.AxesImage at 0x15b28b93f20>"
      ]
     },
     "execution_count": 14,
     "metadata": {},
     "output_type": "execute_result"
    },
    {
     "data": {
      "image/png": "[encoded data removed]",
      "text/plain": [
       "<Figure size 640x480 with 1 Axes>"
      ]
     },
     "metadata": {},
     "output_type": "display_data"
    }
   ],
   "source": [
    "plt.imshow(pascal_image(1000))"
   ]
  },
  {
   "cell_type": "markdown",
   "id": "ddf16b08",
   "metadata": {},
   "source": [
    "Pascal's triangle is usually displayed symmetrically, i.e., wit hthe rows centered.  There is a small amuount of trickiness as each row is offset by half a step from the previous row."
   ]
  },
  {
   "cell_type": "code",
   "execution_count": 1,
   "id": "f949c72b-835b-49ad-9d89-c3f87d200ede",
   "metadata": {},
   "outputs": [],
   "source": [
    "def centered_pascal(n):\n",
    "    img = []\n",
    "    for i in range(n):\n",
    "        img.append((n - i - 1) * [0] + pascal(i) + (n - i - 1) * [0])\n",
    "    return img"
   ]
  },
  {
   "cell_type": "code",
   "execution_count": 9,
   "id": "1b759407",
   "metadata": {},
   "outputs": [
    {
     "data": {
      "text/plain": [
       "[[0, 0, 0, 0, 1, 0, 0, 0, 0],\n",
       " [0, 0, 0, 1, 1, 0, 0, 0],\n",
       " [0, 0, 1, 0, 1, 0, 0],\n",
       " [0, 1, 1, 1, 1, 0],\n",
       " [1, 0, 0, 0, 1]]"
      ]
     },
     "execution_count": 9,
     "metadata": {},
     "output_type": "execute_result"
    }
   ],
   "source": [
    "centered_pascal(5)"
   ]
  },
  {
   "cell_type": "code",
   "execution_count": null,
   "id": "e09362fa",
   "metadata": {},
   "outputs": [],
   "source": []
  }
 ],
 "metadata": {
  "kernelspec": {
   "display_name": "Python 3",
   "language": "python",
   "name": "python3"
  },
  "language_info": {
   "codemirror_mode": {
    "name": "ipython",
    "version": 3
   },
   "file_extension": ".py",
   "mimetype": "text/x-python",
   "name": "python",
   "nbconvert_exporter": "python",
   "pygments_lexer": "ipython3",
   "version": "3.12.1"
  }
 },
 "nbformat": 4,
 "nbformat_minor": 5
}
