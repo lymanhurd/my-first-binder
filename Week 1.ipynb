{
 "cells": [
  {
   "cell_type": "markdown",
   "id": "34995082-ef35-4ff4-95d0-96c491eea240",
   "metadata": {},
   "source": [
    "## HSSP Spring 2024: Computing in the Small: Lyman Hurd, Glenn Hurd\n",
    "\n",
    "### Week 1: Introduction to Python\n",
    "The purpose of this course is to illustrate that simple programs can lead to complicated results.  Many of the systems we will be conisidering are provably as complicated as a general computer.  All of the calculations we will carry out could be done with pencil and paper, but to speed things up we will be implementing the code in Python.  The important part is that for each system being described Python is a tool, but the actual work is being done with a simple set of rules."
   ]
  },
  {
   "cell_type": "markdown",
   "id": "c8ba1b98",
   "metadata": {},
   "source": [
    "#### Jupyter Notebooks\n",
    "This is a Jupyter notebook which is a way to present Python code (it works for other computer languages too, but we will stick to Python in this course) in an interactive fashion.  There are \"markdown\" (text) sections containing explanatory text, input boxes which represent code and output boxes that represent the result of running the code.  In all cases you can edit the code and see what the new values would have given by simply changing the text and hitting \"shift-enter\" to evaluate the cell.  Note that the Python program underlying the notebook only knows about cells you have evaluated and so you should be sure to evaluate cells in the desired order (in other words, if we define a variable or function in one cell, we cannot use that information in a subsequent cell until we have evaluated the first cell).\n",
    "\n",
    "#### Evaluating expressions\n",
    "First off, Python acts like a glorified calculator.  You can simply type in an expression and get a result.  The **print** function here is not technically necessary because Python will always print the result of the last expression it sees, but we will want to use this later when we want Python to print out values in the middle of a computation."
   ]
  },
  {
   "cell_type": "code",
   "execution_count": null,
   "id": "57f214a1",
   "metadata": {},
   "outputs": [],
   "source": [
    "print(123456789 * 987654321)"
   ]
  },
  {
   "cell_type": "markdown",
   "id": "e7de1372",
   "metadata": {},
   "source": [
    "Making mistakes is an essentialt of learning.  Please see what happens when you mak ethe following edits to the cell above and evaluate with ctl-enter.  NOte that Jupyter lets you evaluate a cell any number of times.  During the course we will be looking for students who are able to make the computer misbehave in unpredciateble ways :-).\n",
    "\n",
    "1. Edit the cell above and remove the \"*\" between the two numbers, then evaluate the cell with ctl-enter.\n",
    "1. Now put back the \"*\" but remove the parentheses.  Note that in older vesions of Python this used to be legal!\n",
    "1. Remove the \"i\" in the word \"print\".\n",
    "\n",
    "Juyter notebooks are very forgiving and this course is set up so that you are playing with your own personal copy and so you can edit any of the cells without your changes messing things up for anyone else.  The downside is that this means that your changes are not saved and so if you want to keep a record of things that succeeded it is suggested that you write things down in a notebook!"
   ]
  },
  {
   "cell_type": "markdown",
   "id": "1933e0e1",
   "metadata": {},
   "source": [
    "Note that in many computer languages this calculation would overflow.  often languages do not allow integers greater than 2 to the 32nd power (4294967296) which is expressed in Python as 2**32.\n",
    "\n",
    "Python works with as many digits as are needed for an answer.  Some computer languages allow \"long\" integers as high as 2 to the 64th (2\\*\\*64) or \"long long\" numbers as high as 2\\*\\*128.  Python does not stop there:"
   ]
  },
  {
   "cell_type": "code",
   "execution_count": null,
   "id": "44521e95",
   "metadata": {},
   "outputs": [],
   "source": [
    "print(2**32 + 1)\n",
    "print(2**64 + 1)\n",
    "print(2**128 + 1)\n",
    "print(2**256 + 1)"
   ]
  },
  {
   "cell_type": "markdown",
   "id": "b6dd0300",
   "metadata": {},
   "source": [
    "#### Variables\n",
    "Variables are assigned by saying \"variable = value\", e.g.  Note that this is different from the way math uses \"=\".  To assert that two things are equalt we use `==`."
   ]
  },
  {
   "cell_type": "code",
   "execution_count": null,
   "id": "f9a09ad0",
   "metadata": {},
   "outputs": [],
   "source": [
    "x = 128\n",
    "y = 666\n",
    "print(x * y + 1)\n",
    "print(x == 128)"
   ]
  },
  {
   "cell_type": "markdown",
   "id": "46a28d02",
   "metadata": {},
   "source": [
    "#### Functions\n",
    "To avoid having to repeat ourselves when we want to carry on the same computation with a different starting value, Python uses the `def` operator to define a function.  Unlike basically any other programming language, Python depends on spacing to know when you havd finished defining your function.  The number of spaces can be multiples of any fixed number but we will always use multiples of **four** spaces or equivalently one tab."
   ]
  },
  {
   "cell_type": "code",
   "execution_count": null,
   "id": "39416672",
   "metadata": {},
   "outputs": [],
   "source": [
    "# every line in the function is indented by at least 4 spaces\n",
    "def my_function(x):\n",
    "    return x + 1\n",
    "\n",
    "# now to test it out (since we are back at the beginning of the line, Python knows we have finished defining the function)\n",
    "print(my_function(1))\n",
    "print(my_function(2))"
   ]
  },
  {
   "cell_type": "markdown",
   "id": "c84d465a",
   "metadata": {},
   "source": [
    "### Loops\n",
    "Now another thing we will often want to do is to loop.  One of the simplest sort of loops is over a range of numbers.  We handle this by the `range(n)` function.  The range by default starts at 0 and goes upwards but with two numbers you can specify the lower and upper bounds, and with three you can even specify the step between values.  We combine this with the `for` keyword.  Note that spacing tells Python what statements we want looped over (we will also see this rule when we evaluate `if/else` statements).  We can even step backwards.  Notice that the loop always stops just before we get to the last value."
   ]
  },
  {
   "cell_type": "code",
   "execution_count": null,
   "id": "8c8bbba1",
   "metadata": {},
   "outputs": [],
   "source": [
    "for i in range(5):\n",
    "    print(\"First loop \", i)\n",
    "\n",
    "print()\n",
    "\n",
    "for i in range(5, 10):\n",
    "    print(\"Second loop \", i)\n",
    "\n",
    "print()\n",
    "\n",
    "for i in range(0, 10, 2):\n",
    "    print(\"Third loop \", i)\n",
    "\n",
    "print()\n",
    "\n",
    "for i in range(10, 0, -2):\n",
    "    print(\"Fourth loop \", i)"
   ]
  },
  {
   "cell_type": "markdown",
   "id": "b918c40d",
   "metadata": {},
   "source": [
    "### Arithmetic Operators\n",
    "We will, of course, use the standard `+`, `-`, `*` (times) and `/` (divide) but we will often want to rely on a special kind of division that cuts off the fractional part of the result `//`.\n",
    "\n",
    "We also will have occasion to use the modulo (or mod) operator `%` which gives the remainder when one number is divided by another."
   ]
  },
  {
   "cell_type": "code",
   "execution_count": null,
   "id": "c0fc1267",
   "metadata": {},
   "outputs": [],
   "source": [
    "# normal division\n",
    "print(\"5/2 =\", 5/2)\n",
    "\n",
    "# integer division\n",
    "print(\"5//2 =\", 5//2)\n",
    "print(\"-7//2 =\", -7//2)\n",
    "\n",
    "\n",
    "# modulo\n",
    "print(\"5 % 2 =\", 5 % 2)\n",
    "print(\"-5 % 2 =\", -5 % 2)"
   ]
  },
  {
   "cell_type": "markdown",
   "id": "113646fa",
   "metadata": {},
   "source": [
    "For example, `n % 2` is `0` if `n` is even and `1` if `n` is odd.  If the number is negative we continue the pattern.\n",
    "\n",
    "### If/Else\n",
    "To test a condition we use an `if/else` block.  Note that the statements to be executed are indented.\n",
    "\n",
    "Those of you who have used other computer languages like Java or JavaScript will notice another peculiarity of Python, that parentheses can often be omitted in `if` statements and `for` statements and a few other places we will encounter later."
   ]
  },
  {
   "cell_type": "code",
   "execution_count": null,
   "id": "144e0191",
   "metadata": {},
   "outputs": [],
   "source": [
    "def describe(n):\n",
    "    if n % 2 == 0:\n",
    "        print(n, \"is even\")\n",
    "    else:\n",
    "        print(n, \"is odd\")\n",
    "\n",
    "for i in range(-5, 5):\n",
    "    describe(i)"
   ]
  },
  {
   "cell_type": "markdown",
   "id": "313cfe28",
   "metadata": {},
   "source": [
    "### Simple Programs, Complex Behavior\n",
    "In this unit we will look a the `3n + 1` prblem also called the `Collatz` or `Syracuse` problem, but first we will analyze a simpler case."
   ]
  },
  {
   "cell_type": "markdown",
   "id": "2163a5b4",
   "metadata": {},
   "source": [
    "Let us see what we can do using only the building blocks we have described.  First we want to consider a function `c1` from the integers to themselves defined by the rule:\n",
    "\n",
    "1. If `n` is even, return `n // 2`\n",
    "1. If `n` is odd, return `2n + 1`"
   ]
  },
  {
   "cell_type": "code",
   "execution_count": null,
   "id": "b7a115d0",
   "metadata": {},
   "outputs": [],
   "source": [
    "def c1(n):\n",
    "    if n % 2 == 0:\n",
    "        return n // 2\n",
    "    else:\n",
    "        return 2 * n + 1"
   ]
  },
  {
   "cell_type": "markdown",
   "id": "b589ff1f",
   "metadata": {},
   "source": [
    "We will be particularly interested in what happens to a value of `n` on repeated application of the rule.  Using the \"end\" keyword allows us to tell the print statement not to insert a newline between every statement so that we can see the iterates in a line. "
   ]
  },
  {
   "cell_type": "code",
   "execution_count": null,
   "id": "4bf5bfa6",
   "metadata": {},
   "outputs": [],
   "source": [
    "def c1_iterates(n):\n",
    "    for i in range(10):\n",
    "        print(n, \"-> \", end=\"\")\n",
    "        n = c1(n)\n",
    "    print(n)"
   ]
  },
  {
   "cell_type": "code",
   "execution_count": null,
   "id": "97de11c9",
   "metadata": {},
   "outputs": [],
   "source": [
    "c1_iterates(1)"
   ]
  },
  {
   "cell_type": "code",
   "execution_count": null,
   "id": "e0e2818c",
   "metadata": {},
   "outputs": [],
   "source": [
    "for i in range(13):\n",
    "    c1_iterates(i)"
   ]
  },
  {
   "cell_type": "markdown",
   "id": "26e0bd87",
   "metadata": {},
   "source": [
    "How about negative numbers?"
   ]
  },
  {
   "cell_type": "code",
   "execution_count": null,
   "id": "6c3d98be",
   "metadata": {},
   "outputs": [],
   "source": [
    "for i in range(0, -10, -1):\n",
    "    c1_iterates(i)"
   ]
  },
  {
   "cell_type": "markdown",
   "id": "77f5f17a",
   "metadata": {},
   "source": [
    "#### Some initial observations:\n",
    "\n",
    "1. 0 and -1 are fixed points (they never change)\n",
    "1. Every even number gets cut in half until it reaches an odd number (which has to happen for all values except 0)\n",
    "1. Every odd number increases without bound and some of these sequences overlap (for example, if we know all the future iterates f 3, we also know the history of 7 and 15, but this sequence has no overlaps with the numbers starting with 5)"
   ]
  },
  {
   "cell_type": "markdown",
   "id": "cf02bc8f",
   "metadata": {},
   "source": [
    "#### When does a number start a new sequence?\n",
    "For example, looking at the sequences above we can see that the sequences starting with 3, 7 and 15 are continuations of the sequence starting at 1, while the sequence starting with 5 has no numbers in common with that one."
   ]
  },
  {
   "cell_type": "code",
   "execution_count": null,
   "id": "f0bcbbbe",
   "metadata": {},
   "outputs": [],
   "source": [
    "c1_iterates(1)\n",
    "\n",
    "c1_iterates(5)"
   ]
  },
  {
   "cell_type": "markdown",
   "id": "dd355be9",
   "metadata": {},
   "source": [
    "Another way to ask the same question, is when does an odd number occur after a previous odd number."
   ]
  },
  {
   "cell_type": "markdown",
   "id": "ce64d64d",
   "metadata": {},
   "source": [
    "Every odd number can be expressed as `n = 2m + 1` for some other integer `m`.\n",
    "\n",
    "If `m` is also odd, then we know that its successor would be `n`, and so `n` would be in the sequence containing `m`,\n",
    "\n",
    "The alternative is that `m` is even in which case we can write `m = 2p`.\n",
    "\n",
    "Substituting we get: `n = 2m + 1 = 2 (2p) + 1` and simplifying we get `n = 4p + 1`, which is a longwinded way to say if the remainder of `n` divided by `4` is `1`.\n",
    "\n",
    "In other words, we get the rule."
   ]
  },
  {
   "cell_type": "markdown",
   "id": "607997b5",
   "metadata": {},
   "source": [
    "#### Rule for 2n + 1\n",
    "If a number has a remainder of 1 when divided by 4 (it is 1, 5, 9, 13, 17,...), then it is the beginning of a unique set of numbers under iteration of `2n + 1`."
   ]
  },
  {
   "cell_type": "code",
   "execution_count": null,
   "id": "6c37547d",
   "metadata": {},
   "outputs": [],
   "source": [
    "def c1_iterates_mod_4(n):\n",
    "    for i in range(10):\n",
    "        print(f\"{n} ({n % 4}) -> \", end=\"\")\n",
    "        n = c1(n)\n",
    "    print(f\"{n} ({n % 4})\")\n",
    "\n",
    "for i in range(-10, 10):\n",
    "    c1_iterates_mod_4(i)"
   ]
  },
  {
   "cell_type": "markdown",
   "id": "6ec6a498",
   "metadata": {},
   "source": [
    "#### Formatted Strings\n",
    "The last code example used another convenient feature of Python called a formatted string.  By writing an \"f\" in front of the string we can insert pieces of code between curly braces and the resultant string will fill in the value.  We could have accomplished this by a normal print statement but it would end up loking much messier.  For example:"
   ]
  },
  {
   "cell_type": "code",
   "execution_count": null,
   "id": "c6fbcdc2",
   "metadata": {},
   "outputs": [],
   "source": [
    "print(f\"The value of 1 + 1 is {1 + 1}\")"
   ]
  },
  {
   "cell_type": "markdown",
   "id": "2c78d697",
   "metadata": {},
   "source": [
    "So our last observations is that if `n % 4 == 1` it will lead to a new unique sequence of numbers and otherwise `n` will have occurred in a sequence starting with a number closer to 0."
   ]
  },
  {
   "cell_type": "markdown",
   "id": "f3dfe2fd",
   "metadata": {},
   "source": [
    "### The `3n + 1` Problem\n",
    "In the case of `2n + 1`, we could predict its long-term behavior completely.  Let's see what happens in we change one number in our function and consider instead `3n + 1`.  We will name the new function `collatz(n)` in honor of *Lothar Collatz* (1910-1990) who came up with this example.  In the previous case once we hit an odd number all subsequent numbers were odd, but for this function every odd number maps to an even number and the two types are mixed up."
   ]
  },
  {
   "cell_type": "code",
   "execution_count": null,
   "id": "84ee89f9",
   "metadata": {},
   "outputs": [],
   "source": [
    "def collatz(n):\n",
    "    if n % 2 == 0:\n",
    "        return n // 2\n",
    "    else:\n",
    "        return 3 * n + 1\n",
    "    \n",
    "def collatz_iterates(n):\n",
    "    for i in range(10):\n",
    "        print(n, \"-> \", end=\"\")\n",
    "        n = collatz(n)\n",
    "    print(n)"
   ]
  },
  {
   "cell_type": "code",
   "execution_count": null,
   "id": "218e29ec",
   "metadata": {},
   "outputs": [],
   "source": [
    "for i in range(1, 10):\n",
    "    collatz_iterates(i)"
   ]
  },
  {
   "cell_type": "markdown",
   "id": "12f48b2a",
   "metadata": {},
   "source": [
    "We see that 1 leads to a cycle **1 --> 4 --> 2 --> 1** and so to make things cleaner we will change **collatz_iterates(n)** to stop printing when we get to 1.  We will also make the number of terms to print a separate parameter.  The command **break** allows us to leave the loop early."
   ]
  },
  {
   "cell_type": "code",
   "execution_count": null,
   "id": "25d24844",
   "metadata": {},
   "outputs": [],
   "source": [
    "def collatz_iterates2(n, iters):\n",
    "    for i in range(iters):\n",
    "        print(n, \"-> \", end=\"\")\n",
    "        n = collatz(n)\n",
    "        if n == 1:\n",
    "            break\n",
    "    print(n)"
   ]
  },
  {
   "cell_type": "code",
   "execution_count": null,
   "id": "60573a79",
   "metadata": {},
   "outputs": [],
   "source": [
    "for i in range(1, 10):\n",
    "    collatz_iterates2(i, 10)"
   ]
  },
  {
   "cell_type": "markdown",
   "id": "ad9d13ef",
   "metadata": {},
   "source": [
    "So far every number has reached `1` except `7` and `9`.  Let's increase the number of iterations for those two numbers."
   ]
  },
  {
   "cell_type": "code",
   "execution_count": null,
   "id": "4d3b79b7",
   "metadata": {},
   "outputs": [],
   "source": [
    "collatz_iterates2(7, 16)"
   ]
  },
  {
   "cell_type": "code",
   "execution_count": null,
   "id": "7855bc7c",
   "metadata": {},
   "outputs": [],
   "source": [
    "collatz_iterates2(9, 19)"
   ]
  },
  {
   "cell_type": "markdown",
   "id": "714c98a2",
   "metadata": {},
   "source": [
    "Already we see greater complexity:\n",
    "\n",
    "1. Sequences are a mix of even and odd numbers.\n",
    "1. The sequence can get bigger and smaller.\n",
    "1. Every (positive) number tested eventually seems to land in the cycle 1 --> 4 --> 2 --> 1.\n",
    "1. The number of steps to get into the cycle seems to be unpredictable."
   ]
  },
  {
   "cell_type": "markdown",
   "id": "964bbed0",
   "metadata": {},
   "source": [
    "### The Collatz Conjecture\n",
    "The **Collatz Conjecture** states that this sequence ends up in the cycle 1 --> 4 --> 2 --> 1 for *every* positive number `n`.  To date (2024) it has not been prove true but it has been verified for numbers up to 5 quintillion (5,000,000,000,000,000,000).  The mathematician Paul Erdős said about the Collatz conjecture: \"Mathematics is not yet ready for such problems.\" He offered $500 USD for its solution.\n",
    "\n",
    "https://mathworld.wolfram.com/CollatzProblem.html"
   ]
  },
  {
   "cell_type": "markdown",
   "id": "fcaeebbe",
   "metadata": {},
   "source": [
    "*Footnote:* Paul Erdős is one of the most prolific mathematicians in history and he has collaborated with many people, leading mathematicians to perform their own version of \"Degress of separation from Kevin Bacon.\".  An author's \"Erdős Number\".  A person who has co-authored a paper with Paul Erdős is defined to have Erdős number 1, someone who has published a paper with someone who has Erdős number 1 has Erdős number 2 etc.  As a \"fun fact\" your instructors for this course have Erdős number 3 and 4 respectively!\n",
    "\n",
    "https://mathworld.wolfram.com/ErdosNumber.html"
   ]
  },
  {
   "cell_type": "markdown",
   "id": "989e9eb7",
   "metadata": {},
   "source": [
    "#### Homework\n",
    "What can you tell about the Collatz function applied to zero or negative integers?  Start by evaluating the following and see if you can come up with a conjecture.  NOte you may need to increase the range of numbers examined or adjust the number of iterations. "
   ]
  },
  {
   "cell_type": "code",
   "execution_count": null,
   "id": "bbea2707",
   "metadata": {},
   "outputs": [],
   "source": [
    "for i in range(0, -11, -1):\n",
    "    collatz_iterates(i)"
   ]
  }
 ],
 "metadata": {
  "kernelspec": {
   "display_name": "Python 3",
   "language": "python",
   "name": "python3"
  },
  "language_info": {
   "codemirror_mode": {
    "name": "ipython",
    "version": 3
   },
   "file_extension": ".py",
   "mimetype": "text/x-python",
   "name": "python",
   "nbconvert_exporter": "python",
   "pygments_lexer": "ipython3",
   "version": "3.11.0"
  }
 },
 "nbformat": 4,
 "nbformat_minor": 5
}
