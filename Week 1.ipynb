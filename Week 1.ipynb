{
 "cells": [
  {
   "cell_type": "markdown",
   "id": "34995082-ef35-4ff4-95d0-96c491eea240",
   "metadata": {},
   "source": [
    "## HSSP Spring 2024: Computing in the Small: Lyman Hurd, Glenn Hurd\n",
    "\n",
    "### Week 1: Simple programs and Python Basics.\n",
    "\n",
    "The purpose of this course is to illustrate that simple programs can lead to complicated results.  In fact, some of the systemss we will be conisidering are provably as complicated as a general computer.  All of the calculations we will carry out could be done with pencil and paper, but to speed things up we will be implementing the code in Python."
   ]
  },
  {
   "cell_type": "markdown",
   "id": "c8ba1b98",
   "metadata": {},
   "source": [
    "### Jupyter Notebooks and Python Basics\n",
    "This is a Jupyter notebook which is a way to present Python code (it works for other computer languages too, but we will stick to Python in this course) in an interactive fashion.  There aree Markdown sections which are just explanatory text, input boxes which represent code and output boxes that represent the result of running the code.  In all cases you can edit the code and see what the new values would have given by simply changing the tesxt and hitting \"shift-enter\" to evaluate the cell.  Note that the Python program underlying the notebook only knows about cells you have evaluated and so you should be sure to evaluate cells in the desired order (in other words, if we define a variable or function in one cell, we cannot use that information in a subsequent cell until we have evaluated the first cell).\n",
    "\n",
    "### Evaluating expressions\n",
    "First off, Python acts like a glorified calculator.  You can simply type in an expression and get a result.  The **print** function here is not technically necessary because Python will always print the result of the last expression it sees, but we will want to use this later when we want Pythont to print out value sin the middle of a computation."
   ]
  },
  {
   "cell_type": "code",
   "execution_count": 16,
   "id": "57f214a1",
   "metadata": {},
   "outputs": [
    {
     "name": "stdout",
     "output_type": "stream",
     "text": [
      "121932631112635269\n"
     ]
    }
   ],
   "source": [
    "print(123456789 * 987654321)"
   ]
  },
  {
   "cell_type": "markdown",
   "id": "1933e0e1",
   "metadata": {},
   "source": [
    "Note that in many computer languages this calculation would overflow (often languages do not allow integers greater than 2 to the 32nd power(in Python  2\\*\\*32) = 4294967296), but Python works with as many digits as are needed for an answer.  And yes, some languages allow 2 to the 64 (2\\*\\*64) or even 2\\*\\*128.  Python does not stop there:"
   ]
  },
  {
   "cell_type": "code",
   "execution_count": 15,
   "id": "44521e95",
   "metadata": {},
   "outputs": [
    {
     "name": "stdout",
     "output_type": "stream",
     "text": [
      "4294967297\n",
      "18446744073709551617\n",
      "340282366920938463463374607431768211457\n"
     ]
    }
   ],
   "source": [
    "print(2**32 + 1)\n",
    "print(2**64 + 1)\n",
    "print(2**128 + 1)"
   ]
  },
  {
   "cell_type": "markdown",
   "id": "b6dd0300",
   "metadata": {},
   "source": [
    "Variables are assigned by saying \"variable = value\", e.g.  Note that this is different from the way math uses \"=\".  To assert that two things are equalt we use `==`."
   ]
  },
  {
   "cell_type": "code",
   "execution_count": 42,
   "id": "f9a09ad0",
   "metadata": {},
   "outputs": [
    {
     "name": "stdout",
     "output_type": "stream",
     "text": [
      "85249\n",
      "True\n"
     ]
    }
   ],
   "source": [
    "x = 128\n",
    "y = 666\n",
    "print(x * y + 1)\n",
    "print(x == 128)"
   ]
  },
  {
   "cell_type": "markdown",
   "id": "46a28d02",
   "metadata": {},
   "source": [
    "To avoid having to repeat outselves when we want to carry on the same computation with a different starting value, Python has the `def` operator to define a function.  Unlike basically any other programming language (that we know of and that spans a lot) Python depends on spacing to know when you havd finished defining your function.  The number of spaces can be any fixed number but we will always use four spaces or equivalently one tab."
   ]
  },
  {
   "cell_type": "code",
   "execution_count": 33,
   "id": "39416672",
   "metadata": {},
   "outputs": [
    {
     "name": "stdout",
     "output_type": "stream",
     "text": [
      "2\n",
      "3\n"
     ]
    }
   ],
   "source": [
    "def my_function(x):\n",
    "    return x + 1\n",
    "\n",
    "# now to test it out\n",
    "print(my_function(1))\n",
    "print(my_function(2))"
   ]
  },
  {
   "cell_type": "markdown",
   "id": "c84d465a",
   "metadata": {},
   "source": [
    "Now another thing we will often want to do is to loop.  One of the simplest sort of loops is over a range of numbers.  We handle this by the `range(n)` function.  The range by default starts at 0 and goes upwards but with two numbers you can specify the lower and upper bounds, and with three you can even specify the step between values.  We combine this with the `for` keyword.  Note that spacing tells Python what statements we want looped over (we will also see his rule when we evaluate `if/else` statements).  We can even step backwards.  Notice that the loop always stops just before we get to the last value."
   ]
  },
  {
   "cell_type": "code",
   "execution_count": 38,
   "id": "8c8bbba1",
   "metadata": {},
   "outputs": [
    {
     "name": "stdout",
     "output_type": "stream",
     "text": [
      "First loop  0\n",
      "First loop  1\n",
      "First loop  2\n",
      "First loop  3\n",
      "First loop  4\n",
      "\n",
      "Second loop  5\n",
      "Second loop  6\n",
      "Second loop  7\n",
      "Second loop  8\n",
      "Second loop  9\n",
      "\n",
      "Third loop  0\n",
      "Third loop  2\n",
      "Third loop  4\n",
      "Third loop  6\n",
      "Third loop  8\n",
      "\n",
      "Fourth loop  10\n",
      "Fourth loop  8\n",
      "Fourth loop  6\n",
      "Fourth loop  4\n",
      "Fourth loop  2\n"
     ]
    }
   ],
   "source": [
    "for i in range(5):\n",
    "    print(\"First loop \", i)\n",
    "\n",
    "print()\n",
    "\n",
    "for i in range(5, 10):\n",
    "    print(\"Second loop \", i)\n",
    "\n",
    "print()\n",
    "\n",
    "for i in range(0, 10, 2):\n",
    "    print(\"Third loop \", i)\n",
    "\n",
    "print()\n",
    "\n",
    "for i in range(10, 0, -2):\n",
    "    print(\"Fourth loop \", i)"
   ]
  },
  {
   "cell_type": "markdown",
   "id": "b918c40d",
   "metadata": {},
   "source": [
    "Two more operators we will depend on are integer division (rounding fractions down) and the mod operator which determines the remainder when you divide two integers."
   ]
  },
  {
   "cell_type": "code",
   "execution_count": 41,
   "id": "c0fc1267",
   "metadata": {},
   "outputs": [
    {
     "name": "stdout",
     "output_type": "stream",
     "text": [
      "5/2 = 2.5\n",
      "5//2 = 2\n",
      "5 % 2 = 1\n"
     ]
    }
   ],
   "source": [
    "# normal division\n",
    "print(\"5/2 =\", 5/2)\n",
    "# integer division\n",
    "print(\"5//2 =\", 5//2)\n",
    "# modulo\n",
    "print(\"5 % 2 =\", 5 % 2)"
   ]
  },
  {
   "cell_type": "markdown",
   "id": "113646fa",
   "metadata": {},
   "source": [
    "For example, `n % 2` is `0` if `n` is even and `1` if `n` is odd.  Notice how the lines are spaced in the `if` and `else` clauses.\n",
    "\n",
    "Those of you who have used other computer languages like Java or JavaScript will notice another peculiarity of Python, that parentheses can often be omitted in `if` statements and `for` statements and a few other places we will encounter later."
   ]
  },
  {
   "cell_type": "code",
   "execution_count": 45,
   "id": "144e0191",
   "metadata": {},
   "outputs": [
    {
     "name": "stdout",
     "output_type": "stream",
     "text": [
      "-5 is odd\n",
      "-4 is even\n",
      "-3 is odd\n",
      "-2 is even\n",
      "-1 is odd\n",
      "0 is even\n",
      "1 is odd\n",
      "2 is even\n",
      "3 is odd\n",
      "4 is even\n"
     ]
    }
   ],
   "source": [
    "def describe(n):\n",
    "    if n % 2 == 0:\n",
    "        print(n, \"is even\")\n",
    "    else:\n",
    "        print(n, \"is odd\")\n",
    "\n",
    "for i in range(-5, 5):\n",
    "    describe(i)"
   ]
  },
  {
   "cell_type": "markdown",
   "id": "2163a5b4",
   "metadata": {},
   "source": [
    "### Simple Programs, Complex Behavior\n",
    "Let us see what we can do using only the building blocks we have described.  First we want to consider a function `c1` from the integers to themselves defined by the rule:\n",
    "\n",
    "1. If `n` is even, return `n // 2`\n",
    "1. If `n` is odd, return `2n + 1`"
   ]
  },
  {
   "cell_type": "code",
   "execution_count": 48,
   "id": "b7a115d0",
   "metadata": {},
   "outputs": [],
   "source": [
    "def c1(n):\n",
    "    if n % 2 == 0:\n",
    "        return n // 2\n",
    "    else:\n",
    "        return 2 * n + 1"
   ]
  },
  {
   "cell_type": "markdown",
   "id": "b589ff1f",
   "metadata": {},
   "source": [
    "We will be particularly interested in what happens to a value of `n` on repeated application of the rule.  Using the \"end\" keyword allows us to tell the print statement not to insert a newline between every statement so that we can see the iterates in a line. "
   ]
  },
  {
   "cell_type": "code",
   "execution_count": 51,
   "id": "4bf5bfa6",
   "metadata": {},
   "outputs": [],
   "source": [
    "def c1_iterates(n):\n",
    "    for i in range(10):\n",
    "        print(n, \"-> \", end=\"\")\n",
    "        n = c1(n)\n",
    "    print(n)"
   ]
  },
  {
   "cell_type": "code",
   "execution_count": 52,
   "id": "97de11c9",
   "metadata": {},
   "outputs": [
    {
     "name": "stdout",
     "output_type": "stream",
     "text": [
      "1 -> 3 -> 7 -> 15 -> 31 -> 63 -> 127 -> 255 -> 511 -> 1023 -> 2047\n"
     ]
    }
   ],
   "source": [
    "c1_iterates(1)"
   ]
  },
  {
   "cell_type": "code",
   "execution_count": 53,
   "id": "e0e2818c",
   "metadata": {},
   "outputs": [
    {
     "name": "stdout",
     "output_type": "stream",
     "text": [
      "0 -> 0 -> 0 -> 0 -> 0 -> 0 -> 0 -> 0 -> 0 -> 0 -> 0\n",
      "1 -> 3 -> 7 -> 15 -> 31 -> 63 -> 127 -> 255 -> 511 -> 1023 -> 2047\n",
      "2 -> 1 -> 3 -> 7 -> 15 -> 31 -> 63 -> 127 -> 255 -> 511 -> 1023\n",
      "3 -> 7 -> 15 -> 31 -> 63 -> 127 -> 255 -> 511 -> 1023 -> 2047 -> 4095\n",
      "4 -> 2 -> 1 -> 3 -> 7 -> 15 -> 31 -> 63 -> 127 -> 255 -> 511\n",
      "5 -> 11 -> 23 -> 47 -> 95 -> 191 -> 383 -> 767 -> 1535 -> 3071 -> 6143\n",
      "6 -> 3 -> 7 -> 15 -> 31 -> 63 -> 127 -> 255 -> 511 -> 1023 -> 2047\n",
      "7 -> 15 -> 31 -> 63 -> 127 -> 255 -> 511 -> 1023 -> 2047 -> 4095 -> 8191\n",
      "8 -> 4 -> 2 -> 1 -> 3 -> 7 -> 15 -> 31 -> 63 -> 127 -> 255\n",
      "9 -> 19 -> 39 -> 79 -> 159 -> 319 -> 639 -> 1279 -> 2559 -> 5119 -> 10239\n",
      "10 -> 5 -> 11 -> 23 -> 47 -> 95 -> 191 -> 383 -> 767 -> 1535 -> 3071\n",
      "11 -> 23 -> 47 -> 95 -> 191 -> 383 -> 767 -> 1535 -> 3071 -> 6143 -> 12287\n",
      "12 -> 6 -> 3 -> 7 -> 15 -> 31 -> 63 -> 127 -> 255 -> 511 -> 1023\n"
     ]
    }
   ],
   "source": [
    "for i in range(13):\n",
    "    c1_iterates(i)"
   ]
  },
  {
   "cell_type": "markdown",
   "id": "26e0bd87",
   "metadata": {},
   "source": [
    "How about negative numbers?"
   ]
  },
  {
   "cell_type": "code",
   "execution_count": 54,
   "id": "6c3d98be",
   "metadata": {},
   "outputs": [
    {
     "name": "stdout",
     "output_type": "stream",
     "text": [
      "0 -> 0 -> 0 -> 0 -> 0 -> 0 -> 0 -> 0 -> 0 -> 0 -> 0\n",
      "-1 -> -1 -> -1 -> -1 -> -1 -> -1 -> -1 -> -1 -> -1 -> -1 -> -1\n",
      "-2 -> -1 -> -1 -> -1 -> -1 -> -1 -> -1 -> -1 -> -1 -> -1 -> -1\n",
      "-3 -> -5 -> -9 -> -17 -> -33 -> -65 -> -129 -> -257 -> -513 -> -1025 -> -2049\n",
      "-4 -> -2 -> -1 -> -1 -> -1 -> -1 -> -1 -> -1 -> -1 -> -1 -> -1\n",
      "-5 -> -9 -> -17 -> -33 -> -65 -> -129 -> -257 -> -513 -> -1025 -> -2049 -> -4097\n",
      "-6 -> -3 -> -5 -> -9 -> -17 -> -33 -> -65 -> -129 -> -257 -> -513 -> -1025\n",
      "-7 -> -13 -> -25 -> -49 -> -97 -> -193 -> -385 -> -769 -> -1537 -> -3073 -> -6145\n",
      "-8 -> -4 -> -2 -> -1 -> -1 -> -1 -> -1 -> -1 -> -1 -> -1 -> -1\n",
      "-9 -> -17 -> -33 -> -65 -> -129 -> -257 -> -513 -> -1025 -> -2049 -> -4097 -> -8193\n"
     ]
    }
   ],
   "source": [
    "for i in range(0, -10, -1):\n",
    "    c1_iterates(i)"
   ]
  },
  {
   "cell_type": "markdown",
   "id": "77f5f17a",
   "metadata": {},
   "source": [
    "Some initial observations:\n",
    "\n",
    "1. 0 and -1 are fixed points (they never change)\n",
    "1. Every even number gets cut in half until it reaches an odd number (which has to happen for all values except 0)\n",
    "1. Every odd number increases without bound and some of these sequences overlap (for example, if we know all the future iterates f 3, we also know the history of 7 and 15, but this sequence has no overlaps withthe numbers starting with 5)\n",
    "\n",
    "When does a number start a new sequence?  For example, looking at the sequences above we can see that the sequences starting with 1, 5 and 9 have no overlaps with each other."
   ]
  },
  {
   "cell_type": "markdown",
   "id": "ce64d64d",
   "metadata": {},
   "source": [
    "Every odd number can be expressed as `n = 2m + 1` for some other number `m`.  If `m` is iteself odd, then we know that its successor would be `n`, so we are more specifically interested in numbers of thr form `n = 2m + 1` where `m` is also odd, or `m = 2p + 1` for some `p`.\n",
    "\n",
    "Substituting we get: `n = 2m + 1 = 2 (2p + 1) + 1` and simplifying we get `n = 4p + 3`, which is a longwinded way to say if the remainder of `n` whcn divided by `4` is `3` (as `n` is odd, the remainder cannot be `0` or `2`), then `n` is part of another sequence).\n",
    "\n",
    "Note we are slipping in another Python convenience, a formatted string which is just a string starting with an f that enables us to add bits of code to evaluate, such as `f\"x + y = {x + y}\"`.   "
   ]
  },
  {
   "cell_type": "code",
   "execution_count": 59,
   "id": "6c37547d",
   "metadata": {},
   "outputs": [
    {
     "name": "stdout",
     "output_type": "stream",
     "text": [
      "-10 (2) -> -5 (3) -> -9 (3) -> -17 (3) -> -33 (3) -> -65 (3) -> -129 (3) -> -257 (3) -> -513 (3) -> -1025 (3) -> -2049 (3)\n",
      "-9 (3) -> -17 (3) -> -33 (3) -> -65 (3) -> -129 (3) -> -257 (3) -> -513 (3) -> -1025 (3) -> -2049 (3) -> -4097 (3) -> -8193 (3)\n",
      "-8 (0) -> -4 (0) -> -2 (2) -> -1 (3) -> -1 (3) -> -1 (3) -> -1 (3) -> -1 (3) -> -1 (3) -> -1 (3) -> -1 (3)\n",
      "-7 (1) -> -13 (3) -> -25 (3) -> -49 (3) -> -97 (3) -> -193 (3) -> -385 (3) -> -769 (3) -> -1537 (3) -> -3073 (3) -> -6145 (3)\n",
      "-6 (2) -> -3 (1) -> -5 (3) -> -9 (3) -> -17 (3) -> -33 (3) -> -65 (3) -> -129 (3) -> -257 (3) -> -513 (3) -> -1025 (3)\n",
      "-5 (3) -> -9 (3) -> -17 (3) -> -33 (3) -> -65 (3) -> -129 (3) -> -257 (3) -> -513 (3) -> -1025 (3) -> -2049 (3) -> -4097 (3)\n",
      "-4 (0) -> -2 (2) -> -1 (3) -> -1 (3) -> -1 (3) -> -1 (3) -> -1 (3) -> -1 (3) -> -1 (3) -> -1 (3) -> -1 (3)\n",
      "-3 (1) -> -5 (3) -> -9 (3) -> -17 (3) -> -33 (3) -> -65 (3) -> -129 (3) -> -257 (3) -> -513 (3) -> -1025 (3) -> -2049 (3)\n",
      "-2 (2) -> -1 (3) -> -1 (3) -> -1 (3) -> -1 (3) -> -1 (3) -> -1 (3) -> -1 (3) -> -1 (3) -> -1 (3) -> -1 (3)\n",
      "-1 (3) -> -1 (3) -> -1 (3) -> -1 (3) -> -1 (3) -> -1 (3) -> -1 (3) -> -1 (3) -> -1 (3) -> -1 (3) -> -1 (3)\n",
      "0 (0) -> 0 (0) -> 0 (0) -> 0 (0) -> 0 (0) -> 0 (0) -> 0 (0) -> 0 (0) -> 0 (0) -> 0 (0) -> 0 (0)\n",
      "1 (1) -> 3 (3) -> 7 (3) -> 15 (3) -> 31 (3) -> 63 (3) -> 127 (3) -> 255 (3) -> 511 (3) -> 1023 (3) -> 2047 (3)\n",
      "2 (2) -> 1 (1) -> 3 (3) -> 7 (3) -> 15 (3) -> 31 (3) -> 63 (3) -> 127 (3) -> 255 (3) -> 511 (3) -> 1023 (3)\n",
      "3 (3) -> 7 (3) -> 15 (3) -> 31 (3) -> 63 (3) -> 127 (3) -> 255 (3) -> 511 (3) -> 1023 (3) -> 2047 (3) -> 4095 (3)\n",
      "4 (0) -> 2 (2) -> 1 (1) -> 3 (3) -> 7 (3) -> 15 (3) -> 31 (3) -> 63 (3) -> 127 (3) -> 255 (3) -> 511 (3)\n",
      "5 (1) -> 11 (3) -> 23 (3) -> 47 (3) -> 95 (3) -> 191 (3) -> 383 (3) -> 767 (3) -> 1535 (3) -> 3071 (3) -> 6143 (3)\n",
      "6 (2) -> 3 (3) -> 7 (3) -> 15 (3) -> 31 (3) -> 63 (3) -> 127 (3) -> 255 (3) -> 511 (3) -> 1023 (3) -> 2047 (3)\n",
      "7 (3) -> 15 (3) -> 31 (3) -> 63 (3) -> 127 (3) -> 255 (3) -> 511 (3) -> 1023 (3) -> 2047 (3) -> 4095 (3) -> 8191 (3)\n",
      "8 (0) -> 4 (0) -> 2 (2) -> 1 (1) -> 3 (3) -> 7 (3) -> 15 (3) -> 31 (3) -> 63 (3) -> 127 (3) -> 255 (3)\n",
      "9 (1) -> 19 (3) -> 39 (3) -> 79 (3) -> 159 (3) -> 319 (3) -> 639 (3) -> 1279 (3) -> 2559 (3) -> 5119 (3) -> 10239 (3)\n"
     ]
    }
   ],
   "source": [
    "def c1_iterates_mod_4(n):\n",
    "    for i in range(10):\n",
    "        print(f\"{n} ({n % 4}) -> \", end=\"\")\n",
    "        n = c1(n)\n",
    "    print(f\"{n} ({n % 4})\")\n",
    "\n",
    "for i in range(-10, 10):\n",
    "    c1_iterates_mod_4(i)"
   ]
  },
  {
   "cell_type": "markdown",
   "id": "2c78d697",
   "metadata": {},
   "source": [
    "So our last observations is that if `n % 4 == 1` it will lead to a new unique sequence of numbers and otherwise `n` will have occurred in a sequence starting with a number closer to 0."
   ]
  },
  {
   "cell_type": "markdown",
   "id": "f3dfe2fd",
   "metadata": {},
   "source": [
    "### Out of the frying pan\n",
    "This has been an example of a situation in which we can analyze behavior completely.  Let's see what happens in we change one number in our function.  We will name the new function `collatz(n)` in honor of *Lothar Collatz* who came up with this example:"
   ]
  },
  {
   "cell_type": "code",
   "execution_count": 93,
   "id": "84ee89f9",
   "metadata": {},
   "outputs": [],
   "source": [
    "def collatz(n):\n",
    "    if n % 2 == 0:\n",
    "        return n // 2\n",
    "    else:\n",
    "        return 3 * n + 1\n",
    "    \n",
    "def collatz_iterates(n):\n",
    "    for i in range(10):\n",
    "        print(n, \"-> \", end=\"\")\n",
    "        n = collatz(n)\n",
    "    print(n)"
   ]
  },
  {
   "cell_type": "code",
   "execution_count": 63,
   "id": "218e29ec",
   "metadata": {},
   "outputs": [
    {
     "name": "stdout",
     "output_type": "stream",
     "text": [
      "1 -> 4 -> 2 -> 1 -> 4 -> 2 -> 1 -> 4 -> 2 -> 1 -> 4\n",
      "2 -> 1 -> 4 -> 2 -> 1 -> 4 -> 2 -> 1 -> 4 -> 2 -> 1\n",
      "3 -> 10 -> 5 -> 16 -> 8 -> 4 -> 2 -> 1 -> 4 -> 2 -> 1\n",
      "4 -> 2 -> 1 -> 4 -> 2 -> 1 -> 4 -> 2 -> 1 -> 4 -> 2\n",
      "5 -> 16 -> 8 -> 4 -> 2 -> 1 -> 4 -> 2 -> 1 -> 4 -> 2\n",
      "6 -> 3 -> 10 -> 5 -> 16 -> 8 -> 4 -> 2 -> 1 -> 4 -> 2\n",
      "7 -> 22 -> 11 -> 34 -> 17 -> 52 -> 26 -> 13 -> 40 -> 20 -> 10\n",
      "8 -> 4 -> 2 -> 1 -> 4 -> 2 -> 1 -> 4 -> 2 -> 1 -> 4\n",
      "9 -> 28 -> 14 -> 7 -> 22 -> 11 -> 34 -> 17 -> 52 -> 26 -> 13\n"
     ]
    }
   ],
   "source": [
    "for i in range(1, 10):\n",
    "    collatz_iterates(i)"
   ]
  },
  {
   "cell_type": "markdown",
   "id": "12f48b2a",
   "metadata": {},
   "source": [
    "We see that 1 leads to a cycle **1 --> 4 --> 2 --> 1** and so to make things cleaner we will change **collatz_iterates(n)** to stop printing when we get to 1.  We will also make the number of terms to print a separate parameter.  The command **break** allows us to leave the loop early."
   ]
  },
  {
   "cell_type": "code",
   "execution_count": 69,
   "id": "25d24844",
   "metadata": {},
   "outputs": [],
   "source": [
    "def collatz_iterates2(n, iters):\n",
    "    for i in range(iters):\n",
    "        print(n, \"-> \", end=\"\")\n",
    "        n = collatz(n)\n",
    "        if n == 1:\n",
    "            break\n",
    "    print(n)"
   ]
  },
  {
   "cell_type": "code",
   "execution_count": 70,
   "id": "60573a79",
   "metadata": {},
   "outputs": [
    {
     "name": "stdout",
     "output_type": "stream",
     "text": [
      "1 -> 4 -> 2 -> 1\n",
      "2 -> 1\n",
      "3 -> 10 -> 5 -> 16 -> 8 -> 4 -> 2 -> 1\n",
      "4 -> 2 -> 1\n",
      "5 -> 16 -> 8 -> 4 -> 2 -> 1\n",
      "6 -> 3 -> 10 -> 5 -> 16 -> 8 -> 4 -> 2 -> 1\n",
      "7 -> 22 -> 11 -> 34 -> 17 -> 52 -> 26 -> 13 -> 40 -> 20 -> 10\n",
      "8 -> 4 -> 2 -> 1\n",
      "9 -> 28 -> 14 -> 7 -> 22 -> 11 -> 34 -> 17 -> 52 -> 26 -> 13\n"
     ]
    }
   ],
   "source": [
    "for i in range(1, 10):\n",
    "    collatz_iterates2(i, 10)"
   ]
  },
  {
   "cell_type": "markdown",
   "id": "ad9d13ef",
   "metadata": {},
   "source": [
    "So far every number has reached `1` except `7` and `9`.  Let's increase the number of iterations for ythose two numbers."
   ]
  },
  {
   "cell_type": "code",
   "execution_count": 72,
   "id": "4d3b79b7",
   "metadata": {},
   "outputs": [
    {
     "name": "stdout",
     "output_type": "stream",
     "text": [
      "7 -> 22 -> 11 -> 34 -> 17 -> 52 -> 26 -> 13 -> 40 -> 20 -> 10 -> 5 -> 16 -> 8 -> 4 -> 2 -> 1\n"
     ]
    }
   ],
   "source": [
    "collatz_iterates2(7, 16)"
   ]
  },
  {
   "cell_type": "code",
   "execution_count": 75,
   "id": "7855bc7c",
   "metadata": {},
   "outputs": [
    {
     "name": "stdout",
     "output_type": "stream",
     "text": [
      "9 -> 28 -> 14 -> 7 -> 22 -> 11 -> 34 -> 17 -> 52 -> 26 -> 13 -> 40 -> 20 -> 10 -> 5 -> 16 -> 8 -> 4 -> 2 -> 1\n"
     ]
    }
   ],
   "source": [
    "collatz_iterates2(9, 19)"
   ]
  },
  {
   "cell_type": "markdown",
   "id": "714c98a2",
   "metadata": {},
   "source": [
    "Already we see greater complexity:\n",
    "\n",
    "1. Sequences are a mix of even and odd numbers.\n",
    "1. The sequence can get bigger and smaller.\n",
    "1. Every (positive) number tested eventually seems to land in the cycle 1 --> 4 --> 2 --> 1.\n",
    "1. The number of steps to get into the cycle seems to be unpredictable."
   ]
  },
  {
   "cell_type": "markdown",
   "id": "964bbed0",
   "metadata": {},
   "source": [
    "### The Collatz Conjecture\n",
    "The **Collatz Conjecture** states that this sequence ends up in the cycle 1 --> 4 --> 2 --> 1 for *every* positive number `n`.  To date (2024) it ha snot been prove true but it has been verified for numbers up to 5 quintillion (5,000,000,000,000,000,000).  The mathematician Paul Erdős said about the Collatz conjecture: \"Mathematics is not yet ready for such problems.\" He offered $500 USD for its solution.\n",
    "\n",
    "https://mathworld.wolfram.com/CollatzProblem.html"
   ]
  },
  {
   "cell_type": "markdown",
   "id": "fcaeebbe",
   "metadata": {},
   "source": [
    "*Footnote:* Paul Erdős is one of the most prolific mathematicians in history and he has collaborated with many people, leading mathematicians to perform their own version of \"Degress of separation from Kevin Bacon.\".  An author's \"Erdős Number\".  A person who has co-authored a paper with Paul Erdős is defined to have Erdős number 1, someone who has published a paper with someone who has Erdős number 1 has Erdős number 2 etc.  As a \"fun fact\" your instructors for this course have Erdős number 3 and 4 respectively!\n",
    "\n",
    "https://mathworld.wolfram.com/ErdosNumber.html"
   ]
  },
  {
   "cell_type": "markdown",
   "id": "989e9eb7",
   "metadata": {},
   "source": [
    "#### Homework\n",
    "What can you tell about the Collatz function applied to zero or negaitive integers?  Start by evaluating the following and see if you can come up with a conjecture.  NOte you may need to increase the range of numbers examined or adjust the number of iterations. "
   ]
  },
  {
   "cell_type": "code",
   "execution_count": null,
   "id": "bbea2707",
   "metadata": {},
   "outputs": [],
   "source": [
    "for i in range(0, -11, -1):\n",
    "    collatz_iterates(i)"
   ]
  }
 ],
 "metadata": {
  "kernelspec": {
   "display_name": "Python 3",
   "language": "python",
   "name": "python3"
  },
  "language_info": {
   "codemirror_mode": {
    "name": "ipython",
    "version": 3
   },
   "file_extension": ".py",
   "mimetype": "text/x-python",
   "name": "python",
   "nbconvert_exporter": "python",
   "pygments_lexer": "ipython3",
   "version": "3.12.1"
  }
 },
 "nbformat": 4,
 "nbformat_minor": 5
}
