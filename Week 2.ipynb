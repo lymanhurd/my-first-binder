{
 "cells": [
  {
   "cell_type": "markdown",
   "id": "34995082-ef35-4ff4-95d0-96c491eea240",
   "metadata": {},
   "source": [
    "## HSSP Spring 2024: Computing in the Small: Lyman Hurd, Glenn Hurd\n",
    "\n",
    "### Week 2: Review of Collatz Conjecture.\n",
    "\n",
    "Last week we ended by looking at the \"Collatz\" function which takes an integer `n` and applies the rules:\n",
    "\n",
    "   * **Rule 1**: if _n_ is even, return _n/2_\n",
    "   * **Rule 2**: if _n_ is odd, return _3n + 1_"
   ]
  },
  {
   "cell_type": "code",
   "execution_count": 9,
   "id": "2ecc336a-51c2-409f-9fa2-21a1e666ed7d",
   "metadata": {},
   "outputs": [],
   "source": [
    "def collatz(n):\n",
    "    if n % 2 == 0:\n",
    "        return n // 2      # Rule 1\n",
    "    else:\n",
    "        return 3 * n + 1   # Rule 2\n",
    "\n",
    "    \n",
    "def collatz_iterates(n, iters=10):\n",
    "    for i in range(iters):\n",
    "        print(n, \"-> \", end=\"\")\n",
    "        n = collatz(n)\n",
    "    print(n)"
   ]
  },
  {
   "cell_type": "markdown",
   "id": "0bf13ad9-8a48-492c-ad2a-20c76d7dcbbc",
   "metadata": {},
   "source": [
    "The homework was to make out what happens to negative numbers and zero.  Zero is even and so it simply stays fixed:\n",
    "\n",
    "0 --> 0 --> 0 --> 0...\n",
    "\n",
    "Looking at a range of negative values:"
   ]
  },
  {
   "cell_type": "code",
   "execution_count": 10,
   "id": "daeb99ff",
   "metadata": {},
   "outputs": [
    {
     "name": "stdout",
     "output_type": "stream",
     "text": [
      "-1 -> -2 -> -1 -> -2 -> -1 -> -2 -> -1 -> -2 -> -1 -> -2 -> -1\n",
      "-2 -> -1 -> -2 -> -1 -> -2 -> -1 -> -2 -> -1 -> -2 -> -1 -> -2\n",
      "-3 -> -8 -> -4 -> -2 -> -1 -> -2 -> -1 -> -2 -> -1 -> -2 -> -1\n",
      "-4 -> -2 -> -1 -> -2 -> -1 -> -2 -> -1 -> -2 -> -1 -> -2 -> -1\n",
      "-5 -> -14 -> -7 -> -20 -> -10 -> -5 -> -14 -> -7 -> -20 -> -10 -> -5\n",
      "-6 -> -3 -> -8 -> -4 -> -2 -> -1 -> -2 -> -1 -> -2 -> -1 -> -2\n",
      "-7 -> -20 -> -10 -> -5 -> -14 -> -7 -> -20 -> -10 -> -5 -> -14 -> -7\n",
      "-8 -> -4 -> -2 -> -1 -> -2 -> -1 -> -2 -> -1 -> -2 -> -1 -> -2\n",
      "-9 -> -26 -> -13 -> -38 -> -19 -> -56 -> -28 -> -14 -> -7 -> -20 -> -10\n"
     ]
    }
   ],
   "source": [
    "for i in range(-1, -10, -1):\n",
    "    collatz_iterates(i)"
   ]
  },
  {
   "cell_type": "markdown",
   "id": "d2ee4700",
   "metadata": {},
   "source": [
    "How many loops do you observe?  The problem with this sort of computation is that one can never be certain (absent proof) that one has looked far enough, and in this case we appear to have missed a loop."
   ]
  },
  {
   "cell_type": "code",
   "execution_count": 12,
   "id": "ec86c9b3",
   "metadata": {},
   "outputs": [
    {
     "name": "stdout",
     "output_type": "stream",
     "text": [
      "-17 -> -50 -> -25 -> -74 -> -37 -> -110 -> -55 -> -164 -> -82 -> -41 -> -122 -> -61 -> -182 -> -91 -> -272 -> -136 -> -68 -> -34 -> -17\n"
     ]
    }
   ],
   "source": [
    "collatz_iterates(-17, 18)"
   ]
  },
  {
   "cell_type": "markdown",
   "id": "212dbb70",
   "metadata": {},
   "source": [
    "#### Stopping Time\n",
    "Returning our attention to positive numbers, we can define the \"stopping time\" to be the number of times we have to apply our rule before we get to 1 (for positive starting numbers).  We technically can define the stopping time to be -1 if it never gets to 1, but the Collatz Conjecture states that this never happens, a fact that has been verified past 5 quintillion!"
   ]
  },
  {
   "cell_type": "markdown",
   "id": "20391ee2",
   "metadata": {},
   "source": [
    "#### while Loops\n",
    "Anoher new piece of python.  The `for` loop iterated over a fixed number of times.  The `while` loop loops until some condition is met.  This willl be the first case in which we have written a program for which we do not know if it will ever return an answer.  Returning is also known as \"halting\" and will form a recurring theme."
   ]
  },
  {
   "cell_type": "code",
   "execution_count": 4,
   "id": "053e1284-9736-4c0a-a0f3-1d5c3f3a0eb8",
   "metadata": {},
   "outputs": [],
   "source": [
    "def stopping_time(n):\n",
    "    count = 0\n",
    "    while n != 1:\n",
    "        n = collatz(n)\n",
    "        count += 1\n",
    "    return count\n"
   ]
  },
  {
   "cell_type": "code",
   "execution_count": 5,
   "id": "dccd9963-745e-471d-b009-7f2d411e3b52",
   "metadata": {},
   "outputs": [
    {
     "name": "stdout",
     "output_type": "stream",
     "text": [
      "stopping_time(1) = 0\n",
      "stopping_time(2) = 1\n",
      "stopping_time(3) = 7\n",
      "stopping_time(4) = 2\n",
      "stopping_time(5) = 5\n",
      "stopping_time(6) = 8\n",
      "stopping_time(7) = 16\n",
      "stopping_time(8) = 3\n",
      "stopping_time(9) = 19\n",
      "stopping_time(10) = 6\n"
     ]
    }
   ],
   "source": [
    "for i in range(1, 11):\n",
    "    print(f\"stopping_time({i}) = {stopping_time(i)}\")"
   ]
  },
  {
   "cell_type": "markdown",
   "id": "0db62e9c",
   "metadata": {},
   "source": [
    "It is hard to see a pattern here, but let us add our graphing package so we can visualize many more points at once."
   ]
  },
  {
   "cell_type": "code",
   "execution_count": 6,
   "id": "7aaa8ac3-000f-4b4b-8619-0cff17a18ce7",
   "metadata": {},
   "outputs": [],
   "source": [
    "import matplotlib.pyplot as plt\n",
    "%matplotlib inline"
   ]
  },
  {
   "cell_type": "code",
   "execution_count": 7,
   "id": "2ea35e8c-bbef-47a7-9bbc-1071e273f23b",
   "metadata": {},
   "outputs": [
    {
     "data": {
      "text/plain": [
       "[<matplotlib.lines.Line2D at 0x1b2c0917ad0>]"
      ]
     },
     "execution_count": 7,
     "metadata": {},
     "output_type": "execute_result"
    },
    {
     "data": {
      "image/png": "[encoded data removed]",
      "text/plain": [
       "<Figure size 640x480 with 1 Axes>"
      ]
     },
     "metadata": {},
     "output_type": "display_data"
    }
   ],
   "source": [
    "N = 1001\n",
    "times = []\n",
    "for i in range(1, N):\n",
    "    times.append(stopping_time(i))\n",
    "\n",
    "plt.plot(range(1, N), times, \"r.\")"
   ]
  },
  {
   "cell_type": "markdown",
   "id": "872856e4",
   "metadata": {},
   "source": [
    "The Collatz problem has remained unsolved for over a half century and has had hundreds of articles written about it as well as books.  As explained in XKCD comic https://xkcd.com/710/."
   ]
  },
  {
   "cell_type": "markdown",
   "id": "d4fc52db",
   "metadata": {},
   "source": [
    "#### Another way to look at it\n",
    "The current formulation of the Collatz problem has the property that every time we apply Rule 2 (`3n + 1`), the next step is always Rule 2 (`n//2`) because Rule 2 always takes an odd integer to an even one. Because of this, we sometimes combine the two to form a new Rule 2' `n --> (3n + 1)//2`.  Some example iterations are given below. "
   ]
  },
  {
   "cell_type": "code",
   "execution_count": 14,
   "id": "35e4b847",
   "metadata": {},
   "outputs": [
    {
     "name": "stdout",
     "output_type": "stream",
     "text": [
      "1 -> 2 -> 1 -> 2 -> 1 -> 2 -> 1 -> 2 -> 1 -> 2 -> 1\n",
      "2 -> 1 -> 2 -> 1 -> 2 -> 1 -> 2 -> 1 -> 2 -> 1 -> 2\n",
      "3 -> 5 -> 8 -> 4 -> 2 -> 1 -> 2 -> 1 -> 2 -> 1 -> 2\n",
      "4 -> 2 -> 1 -> 2 -> 1 -> 2 -> 1 -> 2 -> 1 -> 2 -> 1\n",
      "5 -> 8 -> 4 -> 2 -> 1 -> 2 -> 1 -> 2 -> 1 -> 2 -> 1\n",
      "6 -> 3 -> 5 -> 8 -> 4 -> 2 -> 1 -> 2 -> 1 -> 2 -> 1\n",
      "7 -> 11 -> 17 -> 26 -> 13 -> 20 -> 10 -> 5 -> 8 -> 4 -> 2\n",
      "8 -> 4 -> 2 -> 1 -> 2 -> 1 -> 2 -> 1 -> 2 -> 1 -> 2\n",
      "9 -> 14 -> 7 -> 11 -> 17 -> 26 -> 13 -> 20 -> 10 -> 5 -> 8\n",
      "10 -> 5 -> 8 -> 4 -> 2 -> 1 -> 2 -> 1 -> 2 -> 1 -> 2\n",
      "11 -> 17 -> 26 -> 13 -> 20 -> 10 -> 5 -> 8 -> 4 -> 2 -> 1\n",
      "12 -> 6 -> 3 -> 5 -> 8 -> 4 -> 2 -> 1 -> 2 -> 1 -> 2\n",
      "13 -> 20 -> 10 -> 5 -> 8 -> 4 -> 2 -> 1 -> 2 -> 1 -> 2\n",
      "14 -> 7 -> 11 -> 17 -> 26 -> 13 -> 20 -> 10 -> 5 -> 8 -> 4\n",
      "15 -> 23 -> 35 -> 53 -> 80 -> 40 -> 20 -> 10 -> 5 -> 8 -> 4\n",
      "16 -> 8 -> 4 -> 2 -> 1 -> 2 -> 1 -> 2 -> 1 -> 2 -> 1\n",
      "17 -> 26 -> 13 -> 20 -> 10 -> 5 -> 8 -> 4 -> 2 -> 1 -> 2\n",
      "18 -> 9 -> 14 -> 7 -> 11 -> 17 -> 26 -> 13 -> 20 -> 10 -> 5\n",
      "19 -> 29 -> 44 -> 22 -> 11 -> 17 -> 26 -> 13 -> 20 -> 10 -> 5\n",
      "20 -> 10 -> 5 -> 8 -> 4 -> 2 -> 1 -> 2 -> 1 -> 2 -> 1\n"
     ]
    }
   ],
   "source": [
    "def collatz_modified(n):\n",
    "    if n % 2 == 0:\n",
    "        return n // 2      # Rule 1\n",
    "    else:\n",
    "        return (3 * n + 1)//2   # Rule 2'\n",
    "\n",
    "    \n",
    "def collatz_iterates_modified(n, iters=10):\n",
    "    for i in range(iters):\n",
    "        print(n, \"-> \", end=\"\")\n",
    "        n = collatz_modified(n)\n",
    "    print(n)\n",
    "\n",
    "for i in range(1, 21):\n",
    "    collatz_iterates_modified(i)"
   ]
  },
  {
   "cell_type": "markdown",
   "id": "27e75ccb",
   "metadata": {},
   "source": [
    "We mention this because this sequence will rear its head in a later unit!"
   ]
  }
 ],
 "metadata": {
  "kernelspec": {
   "display_name": "Python 3",
   "language": "python",
   "name": "python3"
  },
  "language_info": {
   "codemirror_mode": {
    "name": "ipython",
    "version": 3
   },
   "file_extension": ".py",
   "mimetype": "text/x-python",
   "name": "python",
   "nbconvert_exporter": "python",
   "pygments_lexer": "ipython3",
   "version": "3.12.1"
  }
 },
 "nbformat": 4,
 "nbformat_minor": 5
}
